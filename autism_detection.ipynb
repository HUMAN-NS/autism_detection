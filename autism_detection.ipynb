{
 "cells": [
  {
   "cell_type": "code",
   "execution_count": 1,
   "metadata": {},
   "outputs": [],
   "source": [
    "import sys"
   ]
  },
  {
   "cell_type": "code",
   "execution_count": 2,
   "metadata": {},
   "outputs": [],
   "source": [
    "import pandas as pd"
   ]
  },
  {
   "cell_type": "code",
   "execution_count": 3,
   "metadata": {},
   "outputs": [],
   "source": [
    "import sklearn"
   ]
  },
  {
   "cell_type": "code",
   "execution_count": 4,
   "metadata": {},
   "outputs": [
    {
     "name": "stderr",
     "output_type": "stream",
     "text": [
      "Using TensorFlow backend.\n"
     ]
    }
   ],
   "source": [
    "import keras"
   ]
  },
  {
   "cell_type": "code",
   "execution_count": 5,
   "metadata": {},
   "outputs": [
    {
     "name": "stdout",
     "output_type": "stream",
     "text": [
      "Python: {} 3.7.3 (default, Mar 27 2019, 17:13:21) [MSC v.1915 64 bit (AMD64)]\n"
     ]
    }
   ],
   "source": [
    "print ('Python: {} '+ format(sys.version))"
   ]
  },
  {
   "cell_type": "code",
   "execution_count": 6,
   "metadata": {},
   "outputs": [
    {
     "name": "stdout",
     "output_type": "stream",
     "text": [
      "Pands: {} 0.24.2\n"
     ]
    }
   ],
   "source": [
    "print ('Pands: {} '+ format(pd.__version__))"
   ]
  },
  {
   "cell_type": "code",
   "execution_count": 7,
   "metadata": {},
   "outputs": [
    {
     "name": "stdout",
     "output_type": "stream",
     "text": [
      "Sklearn: {} 0.20.3\n"
     ]
    }
   ],
   "source": [
    "print ('Sklearn: {} '+ format(sklearn.__version__))"
   ]
  },
  {
   "cell_type": "code",
   "execution_count": 8,
   "metadata": {},
   "outputs": [
    {
     "name": "stdout",
     "output_type": "stream",
     "text": [
      "Keras: {} 2.2.4\n"
     ]
    }
   ],
   "source": [
    "print ('Keras: {} '+ format(keras.__version__))"
   ]
  },
  {
   "cell_type": "code",
   "execution_count": 9,
   "metadata": {},
   "outputs": [],
   "source": [
    "file = 'D:/DS_Projects/Health Projects/Autism-Child-Data.txt'"
   ]
  },
  {
   "cell_type": "code",
   "execution_count": 10,
   "metadata": {},
   "outputs": [],
   "source": [
    "data = pd.read_csv(file, sep=',', index_col = None)"
   ]
  },
  {
   "cell_type": "code",
   "execution_count": null,
   "metadata": {},
   "outputs": [],
   "source": []
  },
  {
   "cell_type": "code",
   "execution_count": 11,
   "metadata": {},
   "outputs": [
    {
     "name": "stdout",
     "output_type": "stream",
     "text": [
      "shape of DataFrame: (292, 21)\n"
     ]
    }
   ],
   "source": [
    "print ('shape of DataFrame: {}'.format(data.shape))"
   ]
  },
  {
   "cell_type": "code",
   "execution_count": 12,
   "metadata": {},
   "outputs": [
    {
     "name": "stdout",
     "output_type": "stream",
     "text": [
      "A1_Score                      1\n",
      "A2_Score                      1\n",
      "A3_Score                      0\n",
      "A4_Score                      0\n",
      "A5_Score                      1\n",
      "A6_Score                      1\n",
      "A7_Score                      0\n",
      "A8_Score                      1\n",
      "A9_Score                      0\n",
      "A10_Score                     0\n",
      "age_numeric                   6\n",
      "gender                        m\n",
      "ethnicity                Others\n",
      "jundice                      no\n",
      "austim                       no\n",
      "contry_of_res            Jordan\n",
      "used_app_before              no\n",
      "result numeric                5\n",
      "age_desc           '4-11 years'\n",
      "relation                 Parent\n",
      "ClassASD                     NO\n",
      "Name: 0, dtype: object\n"
     ]
    }
   ],
   "source": [
    "print (data.loc[0])"
   ]
  },
  {
   "cell_type": "code",
   "execution_count": 13,
   "metadata": {},
   "outputs": [
    {
     "data": {
      "text/html": [
       "<div>\n",
       "<style scoped>\n",
       "    .dataframe tbody tr th:only-of-type {\n",
       "        vertical-align: middle;\n",
       "    }\n",
       "\n",
       "    .dataframe tbody tr th {\n",
       "        vertical-align: top;\n",
       "    }\n",
       "\n",
       "    .dataframe thead th {\n",
       "        text-align: right;\n",
       "    }\n",
       "</style>\n",
       "<table border=\"1\" class=\"dataframe\">\n",
       "  <thead>\n",
       "    <tr style=\"text-align: right;\">\n",
       "      <th></th>\n",
       "      <th>A1_Score</th>\n",
       "      <th>A2_Score</th>\n",
       "      <th>A3_Score</th>\n",
       "      <th>A4_Score</th>\n",
       "      <th>A5_Score</th>\n",
       "      <th>A6_Score</th>\n",
       "      <th>A7_Score</th>\n",
       "      <th>A8_Score</th>\n",
       "      <th>A9_Score</th>\n",
       "      <th>A10_Score</th>\n",
       "      <th>...</th>\n",
       "      <th>gender</th>\n",
       "      <th>ethnicity</th>\n",
       "      <th>jundice</th>\n",
       "      <th>austim</th>\n",
       "      <th>contry_of_res</th>\n",
       "      <th>used_app_before</th>\n",
       "      <th>result numeric</th>\n",
       "      <th>age_desc</th>\n",
       "      <th>relation</th>\n",
       "      <th>ClassASD</th>\n",
       "    </tr>\n",
       "  </thead>\n",
       "  <tbody>\n",
       "    <tr>\n",
       "      <th>0</th>\n",
       "      <td>1</td>\n",
       "      <td>1</td>\n",
       "      <td>0</td>\n",
       "      <td>0</td>\n",
       "      <td>1</td>\n",
       "      <td>1</td>\n",
       "      <td>0</td>\n",
       "      <td>1</td>\n",
       "      <td>0</td>\n",
       "      <td>0</td>\n",
       "      <td>...</td>\n",
       "      <td>m</td>\n",
       "      <td>Others</td>\n",
       "      <td>no</td>\n",
       "      <td>no</td>\n",
       "      <td>Jordan</td>\n",
       "      <td>no</td>\n",
       "      <td>5</td>\n",
       "      <td>'4-11 years'</td>\n",
       "      <td>Parent</td>\n",
       "      <td>NO</td>\n",
       "    </tr>\n",
       "    <tr>\n",
       "      <th>1</th>\n",
       "      <td>1</td>\n",
       "      <td>1</td>\n",
       "      <td>0</td>\n",
       "      <td>0</td>\n",
       "      <td>1</td>\n",
       "      <td>1</td>\n",
       "      <td>0</td>\n",
       "      <td>1</td>\n",
       "      <td>0</td>\n",
       "      <td>0</td>\n",
       "      <td>...</td>\n",
       "      <td>m</td>\n",
       "      <td>'Middle Eastern '</td>\n",
       "      <td>no</td>\n",
       "      <td>no</td>\n",
       "      <td>Jordan</td>\n",
       "      <td>no</td>\n",
       "      <td>5</td>\n",
       "      <td>'4-11 years'</td>\n",
       "      <td>Parent</td>\n",
       "      <td>NO</td>\n",
       "    </tr>\n",
       "    <tr>\n",
       "      <th>2</th>\n",
       "      <td>1</td>\n",
       "      <td>1</td>\n",
       "      <td>0</td>\n",
       "      <td>0</td>\n",
       "      <td>0</td>\n",
       "      <td>1</td>\n",
       "      <td>1</td>\n",
       "      <td>1</td>\n",
       "      <td>0</td>\n",
       "      <td>0</td>\n",
       "      <td>...</td>\n",
       "      <td>m</td>\n",
       "      <td>?</td>\n",
       "      <td>no</td>\n",
       "      <td>no</td>\n",
       "      <td>Jordan</td>\n",
       "      <td>yes</td>\n",
       "      <td>5</td>\n",
       "      <td>'4-11 years'</td>\n",
       "      <td>?</td>\n",
       "      <td>NO</td>\n",
       "    </tr>\n",
       "    <tr>\n",
       "      <th>3</th>\n",
       "      <td>0</td>\n",
       "      <td>1</td>\n",
       "      <td>0</td>\n",
       "      <td>0</td>\n",
       "      <td>1</td>\n",
       "      <td>1</td>\n",
       "      <td>0</td>\n",
       "      <td>0</td>\n",
       "      <td>0</td>\n",
       "      <td>1</td>\n",
       "      <td>...</td>\n",
       "      <td>f</td>\n",
       "      <td>?</td>\n",
       "      <td>yes</td>\n",
       "      <td>no</td>\n",
       "      <td>Jordan</td>\n",
       "      <td>no</td>\n",
       "      <td>4</td>\n",
       "      <td>'4-11 years'</td>\n",
       "      <td>?</td>\n",
       "      <td>NO</td>\n",
       "    </tr>\n",
       "    <tr>\n",
       "      <th>4</th>\n",
       "      <td>1</td>\n",
       "      <td>1</td>\n",
       "      <td>1</td>\n",
       "      <td>1</td>\n",
       "      <td>1</td>\n",
       "      <td>1</td>\n",
       "      <td>1</td>\n",
       "      <td>1</td>\n",
       "      <td>1</td>\n",
       "      <td>1</td>\n",
       "      <td>...</td>\n",
       "      <td>m</td>\n",
       "      <td>Others</td>\n",
       "      <td>yes</td>\n",
       "      <td>no</td>\n",
       "      <td>'United States'</td>\n",
       "      <td>no</td>\n",
       "      <td>10</td>\n",
       "      <td>'4-11 years'</td>\n",
       "      <td>Parent</td>\n",
       "      <td>YES</td>\n",
       "    </tr>\n",
       "    <tr>\n",
       "      <th>5</th>\n",
       "      <td>0</td>\n",
       "      <td>0</td>\n",
       "      <td>1</td>\n",
       "      <td>0</td>\n",
       "      <td>1</td>\n",
       "      <td>1</td>\n",
       "      <td>0</td>\n",
       "      <td>1</td>\n",
       "      <td>0</td>\n",
       "      <td>1</td>\n",
       "      <td>...</td>\n",
       "      <td>m</td>\n",
       "      <td>?</td>\n",
       "      <td>no</td>\n",
       "      <td>yes</td>\n",
       "      <td>Egypt</td>\n",
       "      <td>no</td>\n",
       "      <td>5</td>\n",
       "      <td>'4-11 years'</td>\n",
       "      <td>?</td>\n",
       "      <td>NO</td>\n",
       "    </tr>\n",
       "    <tr>\n",
       "      <th>6</th>\n",
       "      <td>1</td>\n",
       "      <td>0</td>\n",
       "      <td>1</td>\n",
       "      <td>1</td>\n",
       "      <td>1</td>\n",
       "      <td>1</td>\n",
       "      <td>0</td>\n",
       "      <td>1</td>\n",
       "      <td>0</td>\n",
       "      <td>1</td>\n",
       "      <td>...</td>\n",
       "      <td>m</td>\n",
       "      <td>White-European</td>\n",
       "      <td>no</td>\n",
       "      <td>no</td>\n",
       "      <td>'United Kingdom'</td>\n",
       "      <td>no</td>\n",
       "      <td>7</td>\n",
       "      <td>'4-11 years'</td>\n",
       "      <td>Parent</td>\n",
       "      <td>YES</td>\n",
       "    </tr>\n",
       "    <tr>\n",
       "      <th>7</th>\n",
       "      <td>1</td>\n",
       "      <td>1</td>\n",
       "      <td>1</td>\n",
       "      <td>1</td>\n",
       "      <td>1</td>\n",
       "      <td>1</td>\n",
       "      <td>1</td>\n",
       "      <td>1</td>\n",
       "      <td>0</td>\n",
       "      <td>0</td>\n",
       "      <td>...</td>\n",
       "      <td>f</td>\n",
       "      <td>'Middle Eastern '</td>\n",
       "      <td>no</td>\n",
       "      <td>no</td>\n",
       "      <td>Bahrain</td>\n",
       "      <td>no</td>\n",
       "      <td>8</td>\n",
       "      <td>'4-11 years'</td>\n",
       "      <td>Parent</td>\n",
       "      <td>YES</td>\n",
       "    </tr>\n",
       "    <tr>\n",
       "      <th>8</th>\n",
       "      <td>1</td>\n",
       "      <td>1</td>\n",
       "      <td>1</td>\n",
       "      <td>1</td>\n",
       "      <td>1</td>\n",
       "      <td>1</td>\n",
       "      <td>1</td>\n",
       "      <td>0</td>\n",
       "      <td>0</td>\n",
       "      <td>0</td>\n",
       "      <td>...</td>\n",
       "      <td>f</td>\n",
       "      <td>'Middle Eastern '</td>\n",
       "      <td>no</td>\n",
       "      <td>no</td>\n",
       "      <td>Bahrain</td>\n",
       "      <td>no</td>\n",
       "      <td>7</td>\n",
       "      <td>'4-11 years'</td>\n",
       "      <td>Parent</td>\n",
       "      <td>YES</td>\n",
       "    </tr>\n",
       "    <tr>\n",
       "      <th>9</th>\n",
       "      <td>0</td>\n",
       "      <td>0</td>\n",
       "      <td>1</td>\n",
       "      <td>1</td>\n",
       "      <td>1</td>\n",
       "      <td>0</td>\n",
       "      <td>1</td>\n",
       "      <td>1</td>\n",
       "      <td>0</td>\n",
       "      <td>0</td>\n",
       "      <td>...</td>\n",
       "      <td>f</td>\n",
       "      <td>?</td>\n",
       "      <td>no</td>\n",
       "      <td>yes</td>\n",
       "      <td>Austria</td>\n",
       "      <td>no</td>\n",
       "      <td>5</td>\n",
       "      <td>'4-11 years'</td>\n",
       "      <td>?</td>\n",
       "      <td>NO</td>\n",
       "    </tr>\n",
       "    <tr>\n",
       "      <th>10</th>\n",
       "      <td>1</td>\n",
       "      <td>0</td>\n",
       "      <td>0</td>\n",
       "      <td>0</td>\n",
       "      <td>1</td>\n",
       "      <td>1</td>\n",
       "      <td>1</td>\n",
       "      <td>1</td>\n",
       "      <td>1</td>\n",
       "      <td>1</td>\n",
       "      <td>...</td>\n",
       "      <td>m</td>\n",
       "      <td>White-European</td>\n",
       "      <td>yes</td>\n",
       "      <td>no</td>\n",
       "      <td>'United Kingdom'</td>\n",
       "      <td>no</td>\n",
       "      <td>7</td>\n",
       "      <td>'4-11 years'</td>\n",
       "      <td>Self</td>\n",
       "      <td>YES</td>\n",
       "    </tr>\n",
       "  </tbody>\n",
       "</table>\n",
       "<p>11 rows × 21 columns</p>\n",
       "</div>"
      ],
      "text/plain": [
       "    A1_Score  A2_Score  A3_Score  A4_Score  A5_Score  A6_Score  A7_Score  \\\n",
       "0          1         1         0         0         1         1         0   \n",
       "1          1         1         0         0         1         1         0   \n",
       "2          1         1         0         0         0         1         1   \n",
       "3          0         1         0         0         1         1         0   \n",
       "4          1         1         1         1         1         1         1   \n",
       "5          0         0         1         0         1         1         0   \n",
       "6          1         0         1         1         1         1         0   \n",
       "7          1         1         1         1         1         1         1   \n",
       "8          1         1         1         1         1         1         1   \n",
       "9          0         0         1         1         1         0         1   \n",
       "10         1         0         0         0         1         1         1   \n",
       "\n",
       "    A8_Score  A9_Score  A10_Score  ... gender          ethnicity jundice  \\\n",
       "0          1         0          0  ...      m             Others      no   \n",
       "1          1         0          0  ...      m  'Middle Eastern '      no   \n",
       "2          1         0          0  ...      m                  ?      no   \n",
       "3          0         0          1  ...      f                  ?     yes   \n",
       "4          1         1          1  ...      m             Others     yes   \n",
       "5          1         0          1  ...      m                  ?      no   \n",
       "6          1         0          1  ...      m     White-European      no   \n",
       "7          1         0          0  ...      f  'Middle Eastern '      no   \n",
       "8          0         0          0  ...      f  'Middle Eastern '      no   \n",
       "9          1         0          0  ...      f                  ?      no   \n",
       "10         1         1          1  ...      m     White-European     yes   \n",
       "\n",
       "   austim     contry_of_res used_app_before result numeric      age_desc  \\\n",
       "0      no            Jordan              no              5  '4-11 years'   \n",
       "1      no            Jordan              no              5  '4-11 years'   \n",
       "2      no            Jordan             yes              5  '4-11 years'   \n",
       "3      no            Jordan              no              4  '4-11 years'   \n",
       "4      no   'United States'              no             10  '4-11 years'   \n",
       "5     yes             Egypt              no              5  '4-11 years'   \n",
       "6      no  'United Kingdom'              no              7  '4-11 years'   \n",
       "7      no           Bahrain              no              8  '4-11 years'   \n",
       "8      no           Bahrain              no              7  '4-11 years'   \n",
       "9     yes           Austria              no              5  '4-11 years'   \n",
       "10     no  'United Kingdom'              no              7  '4-11 years'   \n",
       "\n",
       "   relation ClassASD   \n",
       "0    Parent        NO  \n",
       "1    Parent        NO  \n",
       "2         ?        NO  \n",
       "3         ?        NO  \n",
       "4    Parent       YES  \n",
       "5         ?        NO  \n",
       "6    Parent       YES  \n",
       "7    Parent       YES  \n",
       "8    Parent       YES  \n",
       "9         ?        NO  \n",
       "10     Self       YES  \n",
       "\n",
       "[11 rows x 21 columns]"
      ]
     },
     "execution_count": 13,
     "metadata": {},
     "output_type": "execute_result"
    }
   ],
   "source": [
    "data.loc[:10]"
   ]
  },
  {
   "cell_type": "code",
   "execution_count": 14,
   "metadata": {},
   "outputs": [
    {
     "data": {
      "text/html": [
       "<div>\n",
       "<style scoped>\n",
       "    .dataframe tbody tr th:only-of-type {\n",
       "        vertical-align: middle;\n",
       "    }\n",
       "\n",
       "    .dataframe tbody tr th {\n",
       "        vertical-align: top;\n",
       "    }\n",
       "\n",
       "    .dataframe thead th {\n",
       "        text-align: right;\n",
       "    }\n",
       "</style>\n",
       "<table border=\"1\" class=\"dataframe\">\n",
       "  <thead>\n",
       "    <tr style=\"text-align: right;\">\n",
       "      <th></th>\n",
       "      <th>A1_Score</th>\n",
       "      <th>A2_Score</th>\n",
       "      <th>A3_Score</th>\n",
       "      <th>A4_Score</th>\n",
       "      <th>A5_Score</th>\n",
       "      <th>A6_Score</th>\n",
       "      <th>A7_Score</th>\n",
       "      <th>A8_Score</th>\n",
       "      <th>A9_Score</th>\n",
       "      <th>A10_Score</th>\n",
       "      <th>result numeric</th>\n",
       "    </tr>\n",
       "  </thead>\n",
       "  <tbody>\n",
       "    <tr>\n",
       "      <th>count</th>\n",
       "      <td>292.000000</td>\n",
       "      <td>292.000000</td>\n",
       "      <td>292.000000</td>\n",
       "      <td>292.000000</td>\n",
       "      <td>292.000000</td>\n",
       "      <td>292.000000</td>\n",
       "      <td>292.000000</td>\n",
       "      <td>292.000000</td>\n",
       "      <td>292.000000</td>\n",
       "      <td>292.000000</td>\n",
       "      <td>292.000000</td>\n",
       "    </tr>\n",
       "    <tr>\n",
       "      <th>mean</th>\n",
       "      <td>0.633562</td>\n",
       "      <td>0.534247</td>\n",
       "      <td>0.743151</td>\n",
       "      <td>0.551370</td>\n",
       "      <td>0.743151</td>\n",
       "      <td>0.712329</td>\n",
       "      <td>0.606164</td>\n",
       "      <td>0.496575</td>\n",
       "      <td>0.493151</td>\n",
       "      <td>0.726027</td>\n",
       "      <td>6.239726</td>\n",
       "    </tr>\n",
       "    <tr>\n",
       "      <th>std</th>\n",
       "      <td>0.482658</td>\n",
       "      <td>0.499682</td>\n",
       "      <td>0.437646</td>\n",
       "      <td>0.498208</td>\n",
       "      <td>0.437646</td>\n",
       "      <td>0.453454</td>\n",
       "      <td>0.489438</td>\n",
       "      <td>0.500847</td>\n",
       "      <td>0.500811</td>\n",
       "      <td>0.446761</td>\n",
       "      <td>2.284882</td>\n",
       "    </tr>\n",
       "    <tr>\n",
       "      <th>min</th>\n",
       "      <td>0.000000</td>\n",
       "      <td>0.000000</td>\n",
       "      <td>0.000000</td>\n",
       "      <td>0.000000</td>\n",
       "      <td>0.000000</td>\n",
       "      <td>0.000000</td>\n",
       "      <td>0.000000</td>\n",
       "      <td>0.000000</td>\n",
       "      <td>0.000000</td>\n",
       "      <td>0.000000</td>\n",
       "      <td>0.000000</td>\n",
       "    </tr>\n",
       "    <tr>\n",
       "      <th>25%</th>\n",
       "      <td>0.000000</td>\n",
       "      <td>0.000000</td>\n",
       "      <td>0.000000</td>\n",
       "      <td>0.000000</td>\n",
       "      <td>0.000000</td>\n",
       "      <td>0.000000</td>\n",
       "      <td>0.000000</td>\n",
       "      <td>0.000000</td>\n",
       "      <td>0.000000</td>\n",
       "      <td>0.000000</td>\n",
       "      <td>5.000000</td>\n",
       "    </tr>\n",
       "    <tr>\n",
       "      <th>50%</th>\n",
       "      <td>1.000000</td>\n",
       "      <td>1.000000</td>\n",
       "      <td>1.000000</td>\n",
       "      <td>1.000000</td>\n",
       "      <td>1.000000</td>\n",
       "      <td>1.000000</td>\n",
       "      <td>1.000000</td>\n",
       "      <td>0.000000</td>\n",
       "      <td>0.000000</td>\n",
       "      <td>1.000000</td>\n",
       "      <td>6.000000</td>\n",
       "    </tr>\n",
       "    <tr>\n",
       "      <th>75%</th>\n",
       "      <td>1.000000</td>\n",
       "      <td>1.000000</td>\n",
       "      <td>1.000000</td>\n",
       "      <td>1.000000</td>\n",
       "      <td>1.000000</td>\n",
       "      <td>1.000000</td>\n",
       "      <td>1.000000</td>\n",
       "      <td>1.000000</td>\n",
       "      <td>1.000000</td>\n",
       "      <td>1.000000</td>\n",
       "      <td>8.000000</td>\n",
       "    </tr>\n",
       "    <tr>\n",
       "      <th>max</th>\n",
       "      <td>1.000000</td>\n",
       "      <td>1.000000</td>\n",
       "      <td>1.000000</td>\n",
       "      <td>1.000000</td>\n",
       "      <td>1.000000</td>\n",
       "      <td>1.000000</td>\n",
       "      <td>1.000000</td>\n",
       "      <td>1.000000</td>\n",
       "      <td>1.000000</td>\n",
       "      <td>1.000000</td>\n",
       "      <td>10.000000</td>\n",
       "    </tr>\n",
       "  </tbody>\n",
       "</table>\n",
       "</div>"
      ],
      "text/plain": [
       "         A1_Score    A2_Score    A3_Score    A4_Score    A5_Score    A6_Score  \\\n",
       "count  292.000000  292.000000  292.000000  292.000000  292.000000  292.000000   \n",
       "mean     0.633562    0.534247    0.743151    0.551370    0.743151    0.712329   \n",
       "std      0.482658    0.499682    0.437646    0.498208    0.437646    0.453454   \n",
       "min      0.000000    0.000000    0.000000    0.000000    0.000000    0.000000   \n",
       "25%      0.000000    0.000000    0.000000    0.000000    0.000000    0.000000   \n",
       "50%      1.000000    1.000000    1.000000    1.000000    1.000000    1.000000   \n",
       "75%      1.000000    1.000000    1.000000    1.000000    1.000000    1.000000   \n",
       "max      1.000000    1.000000    1.000000    1.000000    1.000000    1.000000   \n",
       "\n",
       "         A7_Score    A8_Score    A9_Score   A10_Score  result numeric  \n",
       "count  292.000000  292.000000  292.000000  292.000000      292.000000  \n",
       "mean     0.606164    0.496575    0.493151    0.726027        6.239726  \n",
       "std      0.489438    0.500847    0.500811    0.446761        2.284882  \n",
       "min      0.000000    0.000000    0.000000    0.000000        0.000000  \n",
       "25%      0.000000    0.000000    0.000000    0.000000        5.000000  \n",
       "50%      1.000000    0.000000    0.000000    1.000000        6.000000  \n",
       "75%      1.000000    1.000000    1.000000    1.000000        8.000000  \n",
       "max      1.000000    1.000000    1.000000    1.000000       10.000000  "
      ]
     },
     "execution_count": 14,
     "metadata": {},
     "output_type": "execute_result"
    }
   ],
   "source": [
    "data.describe()"
   ]
  },
  {
   "cell_type": "code",
   "execution_count": 15,
   "metadata": {},
   "outputs": [
    {
     "data": {
      "text/plain": [
       "A1_Score            int64\n",
       "A2_Score            int64\n",
       "A3_Score            int64\n",
       "A4_Score            int64\n",
       "A5_Score            int64\n",
       "A6_Score            int64\n",
       "A7_Score            int64\n",
       "A8_Score            int64\n",
       "A9_Score            int64\n",
       "A10_Score           int64\n",
       "age_numeric        object\n",
       "gender             object\n",
       "ethnicity          object\n",
       "jundice            object\n",
       "austim             object\n",
       "contry_of_res      object\n",
       "used_app_before    object\n",
       "result numeric      int64\n",
       "age_desc           object\n",
       "relation           object\n",
       "ClassASD           object\n",
       "dtype: object"
      ]
     },
     "execution_count": 15,
     "metadata": {},
     "output_type": "execute_result"
    }
   ],
   "source": [
    "data.dtypes"
   ]
  },
  {
   "cell_type": "code",
   "execution_count": 16,
   "metadata": {},
   "outputs": [],
   "source": [
    "data = data.drop(['result numeric', 'age_desc'], axis=1)"
   ]
  },
  {
   "cell_type": "code",
   "execution_count": 17,
   "metadata": {},
   "outputs": [
    {
     "data": {
      "text/html": [
       "<div>\n",
       "<style scoped>\n",
       "    .dataframe tbody tr th:only-of-type {\n",
       "        vertical-align: middle;\n",
       "    }\n",
       "\n",
       "    .dataframe tbody tr th {\n",
       "        vertical-align: top;\n",
       "    }\n",
       "\n",
       "    .dataframe thead th {\n",
       "        text-align: right;\n",
       "    }\n",
       "</style>\n",
       "<table border=\"1\" class=\"dataframe\">\n",
       "  <thead>\n",
       "    <tr style=\"text-align: right;\">\n",
       "      <th></th>\n",
       "      <th>A1_Score</th>\n",
       "      <th>A2_Score</th>\n",
       "      <th>A3_Score</th>\n",
       "      <th>A4_Score</th>\n",
       "      <th>A5_Score</th>\n",
       "      <th>A6_Score</th>\n",
       "      <th>A7_Score</th>\n",
       "      <th>A8_Score</th>\n",
       "      <th>A9_Score</th>\n",
       "      <th>A10_Score</th>\n",
       "      <th>age_numeric</th>\n",
       "      <th>gender</th>\n",
       "      <th>ethnicity</th>\n",
       "      <th>jundice</th>\n",
       "      <th>austim</th>\n",
       "      <th>contry_of_res</th>\n",
       "      <th>used_app_before</th>\n",
       "      <th>relation</th>\n",
       "      <th>ClassASD</th>\n",
       "    </tr>\n",
       "  </thead>\n",
       "  <tbody>\n",
       "    <tr>\n",
       "      <th>0</th>\n",
       "      <td>1</td>\n",
       "      <td>1</td>\n",
       "      <td>0</td>\n",
       "      <td>0</td>\n",
       "      <td>1</td>\n",
       "      <td>1</td>\n",
       "      <td>0</td>\n",
       "      <td>1</td>\n",
       "      <td>0</td>\n",
       "      <td>0</td>\n",
       "      <td>6</td>\n",
       "      <td>m</td>\n",
       "      <td>Others</td>\n",
       "      <td>no</td>\n",
       "      <td>no</td>\n",
       "      <td>Jordan</td>\n",
       "      <td>no</td>\n",
       "      <td>Parent</td>\n",
       "      <td>NO</td>\n",
       "    </tr>\n",
       "    <tr>\n",
       "      <th>1</th>\n",
       "      <td>1</td>\n",
       "      <td>1</td>\n",
       "      <td>0</td>\n",
       "      <td>0</td>\n",
       "      <td>1</td>\n",
       "      <td>1</td>\n",
       "      <td>0</td>\n",
       "      <td>1</td>\n",
       "      <td>0</td>\n",
       "      <td>0</td>\n",
       "      <td>6</td>\n",
       "      <td>m</td>\n",
       "      <td>'Middle Eastern '</td>\n",
       "      <td>no</td>\n",
       "      <td>no</td>\n",
       "      <td>Jordan</td>\n",
       "      <td>no</td>\n",
       "      <td>Parent</td>\n",
       "      <td>NO</td>\n",
       "    </tr>\n",
       "  </tbody>\n",
       "</table>\n",
       "</div>"
      ],
      "text/plain": [
       "   A1_Score  A2_Score  A3_Score  A4_Score  A5_Score  A6_Score  A7_Score  \\\n",
       "0         1         1         0         0         1         1         0   \n",
       "1         1         1         0         0         1         1         0   \n",
       "\n",
       "   A8_Score  A9_Score  A10_Score age_numeric gender          ethnicity  \\\n",
       "0         1         0          0           6      m             Others   \n",
       "1         1         0          0           6      m  'Middle Eastern '   \n",
       "\n",
       "  jundice austim contry_of_res used_app_before relation ClassASD   \n",
       "0      no     no        Jordan              no   Parent        NO  \n",
       "1      no     no        Jordan              no   Parent        NO  "
      ]
     },
     "execution_count": 17,
     "metadata": {},
     "output_type": "execute_result"
    }
   ],
   "source": [
    "data.loc[:1]"
   ]
  },
  {
   "cell_type": "code",
   "execution_count": 18,
   "metadata": {},
   "outputs": [],
   "source": [
    "x = data.drop(data.columns[18], axis=1)"
   ]
  },
  {
   "cell_type": "code",
   "execution_count": 19,
   "metadata": {},
   "outputs": [
    {
     "data": {
      "text/html": [
       "<div>\n",
       "<style scoped>\n",
       "    .dataframe tbody tr th:only-of-type {\n",
       "        vertical-align: middle;\n",
       "    }\n",
       "\n",
       "    .dataframe tbody tr th {\n",
       "        vertical-align: top;\n",
       "    }\n",
       "\n",
       "    .dataframe thead th {\n",
       "        text-align: right;\n",
       "    }\n",
       "</style>\n",
       "<table border=\"1\" class=\"dataframe\">\n",
       "  <thead>\n",
       "    <tr style=\"text-align: right;\">\n",
       "      <th></th>\n",
       "      <th>A1_Score</th>\n",
       "      <th>A2_Score</th>\n",
       "      <th>A3_Score</th>\n",
       "      <th>A4_Score</th>\n",
       "      <th>A5_Score</th>\n",
       "      <th>A6_Score</th>\n",
       "      <th>A7_Score</th>\n",
       "      <th>A8_Score</th>\n",
       "      <th>A9_Score</th>\n",
       "      <th>A10_Score</th>\n",
       "      <th>age_numeric</th>\n",
       "      <th>gender</th>\n",
       "      <th>ethnicity</th>\n",
       "      <th>jundice</th>\n",
       "      <th>austim</th>\n",
       "      <th>contry_of_res</th>\n",
       "      <th>used_app_before</th>\n",
       "      <th>relation</th>\n",
       "      <th>ClassASD</th>\n",
       "    </tr>\n",
       "  </thead>\n",
       "  <tbody>\n",
       "    <tr>\n",
       "      <th>0</th>\n",
       "      <td>1</td>\n",
       "      <td>1</td>\n",
       "      <td>0</td>\n",
       "      <td>0</td>\n",
       "      <td>1</td>\n",
       "      <td>1</td>\n",
       "      <td>0</td>\n",
       "      <td>1</td>\n",
       "      <td>0</td>\n",
       "      <td>0</td>\n",
       "      <td>6</td>\n",
       "      <td>m</td>\n",
       "      <td>Others</td>\n",
       "      <td>no</td>\n",
       "      <td>no</td>\n",
       "      <td>Jordan</td>\n",
       "      <td>no</td>\n",
       "      <td>Parent</td>\n",
       "      <td>NO</td>\n",
       "    </tr>\n",
       "    <tr>\n",
       "      <th>1</th>\n",
       "      <td>1</td>\n",
       "      <td>1</td>\n",
       "      <td>0</td>\n",
       "      <td>0</td>\n",
       "      <td>1</td>\n",
       "      <td>1</td>\n",
       "      <td>0</td>\n",
       "      <td>1</td>\n",
       "      <td>0</td>\n",
       "      <td>0</td>\n",
       "      <td>6</td>\n",
       "      <td>m</td>\n",
       "      <td>'Middle Eastern '</td>\n",
       "      <td>no</td>\n",
       "      <td>no</td>\n",
       "      <td>Jordan</td>\n",
       "      <td>no</td>\n",
       "      <td>Parent</td>\n",
       "      <td>NO</td>\n",
       "    </tr>\n",
       "  </tbody>\n",
       "</table>\n",
       "</div>"
      ],
      "text/plain": [
       "   A1_Score  A2_Score  A3_Score  A4_Score  A5_Score  A6_Score  A7_Score  \\\n",
       "0         1         1         0         0         1         1         0   \n",
       "1         1         1         0         0         1         1         0   \n",
       "\n",
       "   A8_Score  A9_Score  A10_Score age_numeric gender          ethnicity  \\\n",
       "0         1         0          0           6      m             Others   \n",
       "1         1         0          0           6      m  'Middle Eastern '   \n",
       "\n",
       "  jundice austim contry_of_res used_app_before relation ClassASD   \n",
       "0      no     no        Jordan              no   Parent        NO  \n",
       "1      no     no        Jordan              no   Parent        NO  "
      ]
     },
     "execution_count": 19,
     "metadata": {},
     "output_type": "execute_result"
    }
   ],
   "source": [
    "data.loc[:1]"
   ]
  },
  {
   "cell_type": "code",
   "execution_count": 20,
   "metadata": {},
   "outputs": [],
   "source": [
    "y = data[data.columns[18]]"
   ]
  },
  {
   "cell_type": "code",
   "execution_count": 21,
   "metadata": {},
   "outputs": [
    {
     "data": {
      "text/html": [
       "<div>\n",
       "<style scoped>\n",
       "    .dataframe tbody tr th:only-of-type {\n",
       "        vertical-align: middle;\n",
       "    }\n",
       "\n",
       "    .dataframe tbody tr th {\n",
       "        vertical-align: top;\n",
       "    }\n",
       "\n",
       "    .dataframe thead th {\n",
       "        text-align: right;\n",
       "    }\n",
       "</style>\n",
       "<table border=\"1\" class=\"dataframe\">\n",
       "  <thead>\n",
       "    <tr style=\"text-align: right;\">\n",
       "      <th></th>\n",
       "      <th>A1_Score</th>\n",
       "      <th>A2_Score</th>\n",
       "      <th>A3_Score</th>\n",
       "      <th>A4_Score</th>\n",
       "      <th>A5_Score</th>\n",
       "      <th>A6_Score</th>\n",
       "      <th>A7_Score</th>\n",
       "      <th>A8_Score</th>\n",
       "      <th>A9_Score</th>\n",
       "      <th>A10_Score</th>\n",
       "      <th>age_numeric</th>\n",
       "      <th>gender</th>\n",
       "      <th>ethnicity</th>\n",
       "      <th>jundice</th>\n",
       "      <th>austim</th>\n",
       "      <th>contry_of_res</th>\n",
       "      <th>used_app_before</th>\n",
       "      <th>relation</th>\n",
       "    </tr>\n",
       "  </thead>\n",
       "  <tbody>\n",
       "    <tr>\n",
       "      <th>0</th>\n",
       "      <td>1</td>\n",
       "      <td>1</td>\n",
       "      <td>0</td>\n",
       "      <td>0</td>\n",
       "      <td>1</td>\n",
       "      <td>1</td>\n",
       "      <td>0</td>\n",
       "      <td>1</td>\n",
       "      <td>0</td>\n",
       "      <td>0</td>\n",
       "      <td>6</td>\n",
       "      <td>m</td>\n",
       "      <td>Others</td>\n",
       "      <td>no</td>\n",
       "      <td>no</td>\n",
       "      <td>Jordan</td>\n",
       "      <td>no</td>\n",
       "      <td>Parent</td>\n",
       "    </tr>\n",
       "    <tr>\n",
       "      <th>1</th>\n",
       "      <td>1</td>\n",
       "      <td>1</td>\n",
       "      <td>0</td>\n",
       "      <td>0</td>\n",
       "      <td>1</td>\n",
       "      <td>1</td>\n",
       "      <td>0</td>\n",
       "      <td>1</td>\n",
       "      <td>0</td>\n",
       "      <td>0</td>\n",
       "      <td>6</td>\n",
       "      <td>m</td>\n",
       "      <td>'Middle Eastern '</td>\n",
       "      <td>no</td>\n",
       "      <td>no</td>\n",
       "      <td>Jordan</td>\n",
       "      <td>no</td>\n",
       "      <td>Parent</td>\n",
       "    </tr>\n",
       "    <tr>\n",
       "      <th>2</th>\n",
       "      <td>1</td>\n",
       "      <td>1</td>\n",
       "      <td>0</td>\n",
       "      <td>0</td>\n",
       "      <td>0</td>\n",
       "      <td>1</td>\n",
       "      <td>1</td>\n",
       "      <td>1</td>\n",
       "      <td>0</td>\n",
       "      <td>0</td>\n",
       "      <td>6</td>\n",
       "      <td>m</td>\n",
       "      <td>?</td>\n",
       "      <td>no</td>\n",
       "      <td>no</td>\n",
       "      <td>Jordan</td>\n",
       "      <td>yes</td>\n",
       "      <td>?</td>\n",
       "    </tr>\n",
       "  </tbody>\n",
       "</table>\n",
       "</div>"
      ],
      "text/plain": [
       "   A1_Score  A2_Score  A3_Score  A4_Score  A5_Score  A6_Score  A7_Score  \\\n",
       "0         1         1         0         0         1         1         0   \n",
       "1         1         1         0         0         1         1         0   \n",
       "2         1         1         0         0         0         1         1   \n",
       "\n",
       "   A8_Score  A9_Score  A10_Score age_numeric gender          ethnicity  \\\n",
       "0         1         0          0           6      m             Others   \n",
       "1         1         0          0           6      m  'Middle Eastern '   \n",
       "2         1         0          0           6      m                  ?   \n",
       "\n",
       "  jundice austim contry_of_res used_app_before relation  \n",
       "0      no     no        Jordan              no   Parent  \n",
       "1      no     no        Jordan              no   Parent  \n",
       "2      no     no        Jordan             yes        ?  "
      ]
     },
     "execution_count": 21,
     "metadata": {},
     "output_type": "execute_result"
    }
   ],
   "source": [
    "x.iloc[:3]"
   ]
  },
  {
   "cell_type": "code",
   "execution_count": 22,
   "metadata": {},
   "outputs": [],
   "source": [
    "x = pd.get_dummies(x);"
   ]
  },
  {
   "cell_type": "code",
   "execution_count": 23,
   "metadata": {},
   "outputs": [
    {
     "data": {
      "text/plain": [
       "array(['A1_Score', 'A2_Score', 'A3_Score', 'A4_Score', 'A5_Score',\n",
       "       'A6_Score', 'A7_Score', 'A8_Score', 'A9_Score', 'A10_Score',\n",
       "       'age_numeric_10', 'age_numeric_11', 'age_numeric_4',\n",
       "       'age_numeric_5', 'age_numeric_6', 'age_numeric_7', 'age_numeric_8',\n",
       "       'age_numeric_9', 'age_numeric_?', 'gender_f', 'gender_m',\n",
       "       \"ethnicity_'Middle Eastern '\", \"ethnicity_'South Asian'\",\n",
       "       'ethnicity_?', 'ethnicity_Asian', 'ethnicity_Black',\n",
       "       'ethnicity_Hispanic', 'ethnicity_Latino', 'ethnicity_Others',\n",
       "       'ethnicity_Pasifika', 'ethnicity_Turkish',\n",
       "       'ethnicity_White-European', 'jundice_no', 'jundice_yes',\n",
       "       'austim_no', 'austim_yes', \"contry_of_res_'Costa Rica'\",\n",
       "       \"contry_of_res_'Isle of Man'\", \"contry_of_res_'New Zealand'\",\n",
       "       \"contry_of_res_'Saudi Arabia'\", \"contry_of_res_'South Africa'\",\n",
       "       \"contry_of_res_'South Korea'\",\n",
       "       \"contry_of_res_'U.S. Outlying Islands'\",\n",
       "       \"contry_of_res_'United Arab Emirates'\",\n",
       "       \"contry_of_res_'United Kingdom'\", \"contry_of_res_'United States'\",\n",
       "       'contry_of_res_Afghanistan', 'contry_of_res_Argentina',\n",
       "       'contry_of_res_Armenia', 'contry_of_res_Australia',\n",
       "       'contry_of_res_Austria', 'contry_of_res_Bahrain',\n",
       "       'contry_of_res_Bangladesh', 'contry_of_res_Bhutan',\n",
       "       'contry_of_res_Brazil', 'contry_of_res_Bulgaria',\n",
       "       'contry_of_res_Canada', 'contry_of_res_China',\n",
       "       'contry_of_res_Egypt', 'contry_of_res_Europe',\n",
       "       'contry_of_res_Georgia', 'contry_of_res_Germany',\n",
       "       'contry_of_res_Ghana', 'contry_of_res_India', 'contry_of_res_Iraq',\n",
       "       'contry_of_res_Ireland', 'contry_of_res_Italy',\n",
       "       'contry_of_res_Japan', 'contry_of_res_Jordan',\n",
       "       'contry_of_res_Kuwait', 'contry_of_res_Latvia',\n",
       "       'contry_of_res_Lebanon', 'contry_of_res_Libya',\n",
       "       'contry_of_res_Malaysia', 'contry_of_res_Malta',\n",
       "       'contry_of_res_Mexico', 'contry_of_res_Nepal',\n",
       "       'contry_of_res_Netherlands', 'contry_of_res_Nigeria',\n",
       "       'contry_of_res_Oman', 'contry_of_res_Pakistan',\n",
       "       'contry_of_res_Philippines', 'contry_of_res_Qatar',\n",
       "       'contry_of_res_Romania', 'contry_of_res_Russia',\n",
       "       'contry_of_res_Sweden', 'contry_of_res_Syria',\n",
       "       'contry_of_res_Turkey', 'used_app_before_no',\n",
       "       'used_app_before_yes', \"relation_'Health care professional'\",\n",
       "       'relation_?', 'relation_Parent', 'relation_Relative',\n",
       "       'relation_Self', 'relation_self'], dtype=object)"
      ]
     },
     "execution_count": 23,
     "metadata": {},
     "output_type": "execute_result"
    }
   ],
   "source": [
    "x.columns.values"
   ]
  },
  {
   "cell_type": "code",
   "execution_count": 24,
   "metadata": {},
   "outputs": [
    {
     "data": {
      "text/plain": [
       "A1_Score                               1\n",
       "A2_Score                               1\n",
       "A3_Score                               0\n",
       "A4_Score                               0\n",
       "A5_Score                               1\n",
       "A6_Score                               1\n",
       "A7_Score                               0\n",
       "A8_Score                               1\n",
       "A9_Score                               0\n",
       "A10_Score                              0\n",
       "age_numeric_10                         0\n",
       "age_numeric_11                         0\n",
       "age_numeric_4                          0\n",
       "age_numeric_5                          0\n",
       "age_numeric_6                          1\n",
       "age_numeric_7                          0\n",
       "age_numeric_8                          0\n",
       "age_numeric_9                          0\n",
       "age_numeric_?                          0\n",
       "gender_f                               0\n",
       "gender_m                               1\n",
       "ethnicity_'Middle Eastern '            1\n",
       "ethnicity_'South Asian'                0\n",
       "ethnicity_?                            0\n",
       "ethnicity_Asian                        0\n",
       "ethnicity_Black                        0\n",
       "ethnicity_Hispanic                     0\n",
       "ethnicity_Latino                       0\n",
       "ethnicity_Others                       0\n",
       "ethnicity_Pasifika                     0\n",
       "                                      ..\n",
       "contry_of_res_Italy                    0\n",
       "contry_of_res_Japan                    0\n",
       "contry_of_res_Jordan                   1\n",
       "contry_of_res_Kuwait                   0\n",
       "contry_of_res_Latvia                   0\n",
       "contry_of_res_Lebanon                  0\n",
       "contry_of_res_Libya                    0\n",
       "contry_of_res_Malaysia                 0\n",
       "contry_of_res_Malta                    0\n",
       "contry_of_res_Mexico                   0\n",
       "contry_of_res_Nepal                    0\n",
       "contry_of_res_Netherlands              0\n",
       "contry_of_res_Nigeria                  0\n",
       "contry_of_res_Oman                     0\n",
       "contry_of_res_Pakistan                 0\n",
       "contry_of_res_Philippines              0\n",
       "contry_of_res_Qatar                    0\n",
       "contry_of_res_Romania                  0\n",
       "contry_of_res_Russia                   0\n",
       "contry_of_res_Sweden                   0\n",
       "contry_of_res_Syria                    0\n",
       "contry_of_res_Turkey                   0\n",
       "used_app_before_no                     1\n",
       "used_app_before_yes                    0\n",
       "relation_'Health care professional'    0\n",
       "relation_?                             0\n",
       "relation_Parent                        1\n",
       "relation_Relative                      0\n",
       "relation_Self                          0\n",
       "relation_self                          0\n",
       "Name: 1, Length: 96, dtype: int64"
      ]
     },
     "execution_count": 24,
     "metadata": {},
     "output_type": "execute_result"
    }
   ],
   "source": [
    "x.loc[1]"
   ]
  },
  {
   "cell_type": "code",
   "execution_count": 25,
   "metadata": {},
   "outputs": [],
   "source": [
    "y = pd.get_dummies(y)"
   ]
  },
  {
   "cell_type": "code",
   "execution_count": 26,
   "metadata": {},
   "outputs": [
    {
     "data": {
      "text/html": [
       "<div>\n",
       "<style scoped>\n",
       "    .dataframe tbody tr th:only-of-type {\n",
       "        vertical-align: middle;\n",
       "    }\n",
       "\n",
       "    .dataframe tbody tr th {\n",
       "        vertical-align: top;\n",
       "    }\n",
       "\n",
       "    .dataframe thead th {\n",
       "        text-align: right;\n",
       "    }\n",
       "</style>\n",
       "<table border=\"1\" class=\"dataframe\">\n",
       "  <thead>\n",
       "    <tr style=\"text-align: right;\">\n",
       "      <th></th>\n",
       "      <th>NO</th>\n",
       "      <th>YES</th>\n",
       "    </tr>\n",
       "  </thead>\n",
       "  <tbody>\n",
       "    <tr>\n",
       "      <th>0</th>\n",
       "      <td>1</td>\n",
       "      <td>0</td>\n",
       "    </tr>\n",
       "    <tr>\n",
       "      <th>1</th>\n",
       "      <td>1</td>\n",
       "      <td>0</td>\n",
       "    </tr>\n",
       "    <tr>\n",
       "      <th>2</th>\n",
       "      <td>1</td>\n",
       "      <td>0</td>\n",
       "    </tr>\n",
       "    <tr>\n",
       "      <th>3</th>\n",
       "      <td>1</td>\n",
       "      <td>0</td>\n",
       "    </tr>\n",
       "    <tr>\n",
       "      <th>4</th>\n",
       "      <td>0</td>\n",
       "      <td>1</td>\n",
       "    </tr>\n",
       "  </tbody>\n",
       "</table>\n",
       "</div>"
      ],
      "text/plain": [
       "   NO  YES\n",
       "0   1    0\n",
       "1   1    0\n",
       "2   1    0\n",
       "3   1    0\n",
       "4   0    1"
      ]
     },
     "execution_count": 26,
     "metadata": {},
     "output_type": "execute_result"
    }
   ],
   "source": [
    "y.iloc[:5]"
   ]
  },
  {
   "cell_type": "code",
   "execution_count": 27,
   "metadata": {},
   "outputs": [],
   "source": [
    "from sklearn import model_selection\n",
    "x_train, x_test, y_train, y_test = model_selection.train_test_split(x,y,test_size=0.2)"
   ]
  },
  {
   "cell_type": "code",
   "execution_count": 28,
   "metadata": {},
   "outputs": [
    {
     "name": "stdout",
     "output_type": "stream",
     "text": [
      "(233, 96)\n",
      "(59, 96)\n",
      "(233, 2)\n",
      "(59, 2)\n"
     ]
    }
   ],
   "source": [
    "print(x_train.shape)\n",
    "print(x_test.shape)\n",
    "print(y_train.shape)\n",
    "print(y_test.shape)\n"
   ]
  },
  {
   "cell_type": "code",
   "execution_count": 29,
   "metadata": {},
   "outputs": [],
   "source": [
    "from keras.models import Sequential"
   ]
  },
  {
   "cell_type": "code",
   "execution_count": 30,
   "metadata": {},
   "outputs": [],
   "source": [
    "from keras.layers import Dense"
   ]
  },
  {
   "cell_type": "code",
   "execution_count": 31,
   "metadata": {},
   "outputs": [],
   "source": [
    "from keras.optimizers import Adam"
   ]
  },
  {
   "cell_type": "code",
   "execution_count": 39,
   "metadata": {},
   "outputs": [],
   "source": [
    "def create_model():\n",
    "    model = Sequential()\n",
    "    model.add(Dense(8, input_dim = 96, kernel_initializer = 'normal',activation = 'relu'))\n",
    "    model.add(Dense(4, kernel_initializer = 'normal', activation = 'relu'))\n",
    "    model.add(Dense(2, activation = 'sigmoid'))\n",
    "    adam = Adam(lr=0.001)\n",
    "    model.compile(loss='categorical_crossentropy', optimizer = adam, metrics = ['accuracy'])\n",
    "    return model"
   ]
  },
  {
   "cell_type": "code",
   "execution_count": 45,
   "metadata": {},
   "outputs": [],
   "source": [
    "model = create_model()"
   ]
  },
  {
   "cell_type": "code",
   "execution_count": 46,
   "metadata": {},
   "outputs": [
    {
     "name": "stdout",
     "output_type": "stream",
     "text": [
      "_________________________________________________________________\n",
      "Layer (type)                 Output Shape              Param #   \n",
      "=================================================================\n",
      "dense_7 (Dense)              (None, 8)                 776       \n",
      "_________________________________________________________________\n",
      "dense_8 (Dense)              (None, 4)                 36        \n",
      "_________________________________________________________________\n",
      "dense_9 (Dense)              (None, 2)                 10        \n",
      "=================================================================\n",
      "Total params: 822\n",
      "Trainable params: 822\n",
      "Non-trainable params: 0\n",
      "_________________________________________________________________\n",
      "None\n"
     ]
    }
   ],
   "source": [
    "print(model.summary())"
   ]
  },
  {
   "cell_type": "code",
   "execution_count": 47,
   "metadata": {},
   "outputs": [
    {
     "name": "stdout",
     "output_type": "stream",
     "text": [
      "WARNING:tensorflow:From C:\\Users\\Nirbhaya\\Anaconda3\\lib\\site-packages\\tensorflow\\python\\ops\\math_ops.py:3066: to_int32 (from tensorflow.python.ops.math_ops) is deprecated and will be removed in a future version.\n",
      "Instructions for updating:\n",
      "Use tf.cast instead.\n",
      "Epoch 1/50\n",
      "233/233 [==============================] - 2s 10ms/step - loss: 0.6910 - acc: 0.5665\n",
      "Epoch 2/50\n",
      "233/233 [==============================] - 0s 141us/step - loss: 0.6847 - acc: 0.6438\n",
      "Epoch 3/50\n",
      "233/233 [==============================] - 0s 137us/step - loss: 0.6751 - acc: 0.6824\n",
      "Epoch 4/50\n",
      "233/233 [==============================] - 0s 141us/step - loss: 0.6570 - acc: 0.7039\n",
      "Epoch 5/50\n",
      "233/233 [==============================] - 0s 141us/step - loss: 0.6316 - acc: 0.7511\n",
      "Epoch 6/50\n",
      "233/233 [==============================] - 0s 124us/step - loss: 0.5968 - acc: 0.8026\n",
      "Epoch 7/50\n",
      "233/233 [==============================] - 0s 141us/step - loss: 0.5528 - acc: 0.8155\n",
      "Epoch 8/50\n",
      "233/233 [==============================] - 0s 150us/step - loss: 0.5048 - acc: 0.8197\n",
      "Epoch 9/50\n",
      "233/233 [==============================] - 0s 141us/step - loss: 0.4553 - acc: 0.8841\n",
      "Epoch 10/50\n",
      "233/233 [==============================] - 0s 163us/step - loss: 0.4086 - acc: 0.8712\n",
      "Epoch 11/50\n",
      "233/233 [==============================] - 0s 120us/step - loss: 0.3670 - acc: 0.9227\n",
      "Epoch 12/50\n",
      "233/233 [==============================] - 0s 133us/step - loss: 0.3265 - acc: 0.9313\n",
      "Epoch 13/50\n",
      "233/233 [==============================] - 0s 146us/step - loss: 0.2911 - acc: 0.9399\n",
      "Epoch 14/50\n",
      "233/233 [==============================] - 0s 124us/step - loss: 0.2594 - acc: 0.9442\n",
      "Epoch 15/50\n",
      "233/233 [==============================] - 0s 133us/step - loss: 0.2363 - acc: 0.9614\n",
      "Epoch 16/50\n",
      "233/233 [==============================] - 0s 141us/step - loss: 0.2085 - acc: 0.9657\n",
      "Epoch 17/50\n",
      "233/233 [==============================] - 0s 146us/step - loss: 0.1878 - acc: 0.9657\n",
      "Epoch 18/50\n",
      "233/233 [==============================] - 0s 137us/step - loss: 0.1724 - acc: 0.9700\n",
      "Epoch 19/50\n",
      "233/233 [==============================] - 0s 154us/step - loss: 0.1529 - acc: 0.9742\n",
      "Epoch 20/50\n",
      "233/233 [==============================] - 0s 146us/step - loss: 0.1406 - acc: 0.9785\n",
      "Epoch 21/50\n",
      "233/233 [==============================] - 0s 116us/step - loss: 0.1261 - acc: 0.9785\n",
      "Epoch 22/50\n",
      "233/233 [==============================] - 0s 146us/step - loss: 0.1220 - acc: 0.9871\n",
      "Epoch 23/50\n",
      "233/233 [==============================] - 0s 137us/step - loss: 0.1095 - acc: 0.9742\n",
      "Epoch 24/50\n",
      "233/233 [==============================] - 0s 141us/step - loss: 0.0989 - acc: 0.9914\n",
      "Epoch 25/50\n",
      "233/233 [==============================] - 0s 150us/step - loss: 0.0885 - acc: 0.9957\n",
      "Epoch 26/50\n",
      "233/233 [==============================] - 0s 137us/step - loss: 0.0825 - acc: 0.9957\n",
      "Epoch 27/50\n",
      "233/233 [==============================] - 0s 163us/step - loss: 0.0765 - acc: 0.9914\n",
      "Epoch 28/50\n",
      "233/233 [==============================] - 0s 150us/step - loss: 0.0730 - acc: 1.0000\n",
      "Epoch 29/50\n",
      "233/233 [==============================] - 0s 154us/step - loss: 0.0693 - acc: 1.0000\n",
      "Epoch 30/50\n",
      "233/233 [==============================] - 0s 146us/step - loss: 0.0611 - acc: 1.0000\n",
      "Epoch 31/50\n",
      "233/233 [==============================] - 0s 146us/step - loss: 0.0572 - acc: 1.0000\n",
      "Epoch 32/50\n",
      "233/233 [==============================] - 0s 150us/step - loss: 0.0532 - acc: 1.0000\n",
      "Epoch 33/50\n",
      "233/233 [==============================] - 0s 146us/step - loss: 0.0511 - acc: 1.0000\n",
      "Epoch 34/50\n",
      "233/233 [==============================] - 0s 154us/step - loss: 0.0463 - acc: 1.0000\n",
      "Epoch 35/50\n",
      "233/233 [==============================] - 0s 124us/step - loss: 0.0437 - acc: 1.0000\n",
      "Epoch 36/50\n",
      "233/233 [==============================] - 0s 128us/step - loss: 0.0420 - acc: 1.0000\n",
      "Epoch 37/50\n",
      "233/233 [==============================] - 0s 146us/step - loss: 0.0390 - acc: 1.0000\n",
      "Epoch 38/50\n",
      "233/233 [==============================] - 0s 137us/step - loss: 0.0393 - acc: 1.0000\n",
      "Epoch 39/50\n",
      "233/233 [==============================] - 0s 150us/step - loss: 0.0342 - acc: 1.0000\n",
      "Epoch 40/50\n",
      "233/233 [==============================] - 0s 137us/step - loss: 0.0324 - acc: 1.0000\n",
      "Epoch 41/50\n",
      "233/233 [==============================] - 0s 137us/step - loss: 0.0315 - acc: 1.0000\n",
      "Epoch 42/50\n",
      "233/233 [==============================] - 0s 150us/step - loss: 0.0294 - acc: 1.0000\n",
      "Epoch 43/50\n",
      "233/233 [==============================] - 0s 133us/step - loss: 0.0279 - acc: 1.0000\n",
      "Epoch 44/50\n",
      "233/233 [==============================] - 0s 133us/step - loss: 0.0270 - acc: 1.0000\n",
      "Epoch 45/50\n",
      "233/233 [==============================] - 0s 150us/step - loss: 0.0251 - acc: 1.0000\n",
      "Epoch 46/50\n",
      "233/233 [==============================] - 0s 137us/step - loss: 0.0243 - acc: 1.0000\n",
      "Epoch 47/50\n",
      "233/233 [==============================] - 0s 163us/step - loss: 0.0230 - acc: 1.0000\n",
      "Epoch 48/50\n",
      "233/233 [==============================] - 0s 146us/step - loss: 0.0230 - acc: 1.0000\n",
      "Epoch 49/50\n",
      "233/233 [==============================] - 0s 133us/step - loss: 0.0220 - acc: 1.0000\n",
      "Epoch 50/50\n",
      "233/233 [==============================] - 0s 150us/step - loss: 0.0207 - acc: 1.0000\n"
     ]
    },
    {
     "data": {
      "text/plain": [
       "<keras.callbacks.History at 0x1a407f67dd8>"
      ]
     },
     "execution_count": 47,
     "metadata": {},
     "output_type": "execute_result"
    }
   ],
   "source": [
    "model.fit(x_train, y_train, epochs=50, batch_size=10, verbose = 1)"
   ]
  },
  {
   "cell_type": "code",
   "execution_count": 48,
   "metadata": {},
   "outputs": [
    {
     "data": {
      "text/plain": [
       "array([0, 1, 1, 1, 1, 1, 1, 1, 0, 0, 1, 1, 0, 0, 0, 0, 1, 0, 0, 0, 1, 1,\n",
       "       1, 0, 0, 0, 1, 1, 0, 1, 1, 1, 1, 1, 0, 0, 0, 0, 0, 0, 0, 0, 0, 0,\n",
       "       0, 1, 1, 0, 1, 1, 1, 0, 1, 1, 0, 0, 0, 0, 1], dtype=int64)"
      ]
     },
     "execution_count": 48,
     "metadata": {},
     "output_type": "execute_result"
    }
   ],
   "source": [
    "from sklearn.metrics import classification_report, accuracy_score\n",
    "predictions = model.predict_classes(x_test)\n",
    "predictions"
   ]
  },
  {
   "cell_type": "code",
   "execution_count": 53,
   "metadata": {},
   "outputs": [
    {
     "name": "stdout",
     "output_type": "stream",
     "text": [
      "Prediction results for neural network\n"
     ]
    }
   ],
   "source": [
    "print('Prediction results for neural network')"
   ]
  },
  {
   "cell_type": "code",
   "execution_count": 55,
   "metadata": {},
   "outputs": [
    {
     "name": "stdout",
     "output_type": "stream",
     "text": [
      "0.8813559322033898\n",
      "              precision    recall  f1-score   support\n",
      "\n",
      "           0       0.87      0.90      0.89        30\n",
      "           1       0.89      0.86      0.88        29\n",
      "\n",
      "   micro avg       0.88      0.88      0.88        59\n",
      "   macro avg       0.88      0.88      0.88        59\n",
      "weighted avg       0.88      0.88      0.88        59\n",
      "\n"
     ]
    }
   ],
   "source": [
    "print(accuracy_score(y_test[['YES']], predictions))\n",
    "print(classification_report(y_test[['YES']], predictions))"
   ]
  },
  {
   "cell_type": "code",
   "execution_count": 57,
   "metadata": {},
   "outputs": [],
   "source": [
    "from keras.layers import Dropout"
   ]
  },
  {
   "cell_type": "code",
   "execution_count": 58,
   "metadata": {},
   "outputs": [
    {
     "name": "stdout",
     "output_type": "stream",
     "text": [
      "WARNING:tensorflow:From C:\\Users\\Nirbhaya\\Anaconda3\\lib\\site-packages\\keras\\backend\\tensorflow_backend.py:3445: calling dropout (from tensorflow.python.ops.nn_ops) with keep_prob is deprecated and will be removed in a future version.\n",
      "Instructions for updating:\n",
      "Please use `rate` instead of `keep_prob`. Rate should be set to `rate = 1 - keep_prob`.\n"
     ]
    }
   ],
   "source": [
    "model.add(Dropout(0.25))"
   ]
  },
  {
   "cell_type": "code",
   "execution_count": 59,
   "metadata": {},
   "outputs": [
    {
     "data": {
      "text/plain": [
       "array([0, 1, 1, 1, 1, 1, 1, 1, 0, 0, 1, 1, 0, 0, 0, 0, 1, 0, 0, 0, 1, 1,\n",
       "       1, 0, 0, 0, 1, 1, 0, 1, 1, 1, 1, 1, 0, 0, 0, 0, 0, 0, 0, 0, 0, 0,\n",
       "       0, 1, 1, 0, 1, 1, 1, 0, 1, 1, 0, 0, 0, 0, 1], dtype=int64)"
      ]
     },
     "execution_count": 59,
     "metadata": {},
     "output_type": "execute_result"
    }
   ],
   "source": [
    "from sklearn.metrics import classification_report, accuracy_score\n",
    "predictions = model.predict_classes(x_test)\n",
    "predictions"
   ]
  },
  {
   "cell_type": "code",
   "execution_count": 60,
   "metadata": {},
   "outputs": [
    {
     "name": "stdout",
     "output_type": "stream",
     "text": [
      "Prediction results for neural network\n",
      "0.8813559322033898\n",
      "              precision    recall  f1-score   support\n",
      "\n",
      "           0       0.87      0.90      0.89        30\n",
      "           1       0.89      0.86      0.88        29\n",
      "\n",
      "   micro avg       0.88      0.88      0.88        59\n",
      "   macro avg       0.88      0.88      0.88        59\n",
      "weighted avg       0.88      0.88      0.88        59\n",
      "\n"
     ]
    }
   ],
   "source": [
    "print('Prediction results for neural network')\n",
    "print(accuracy_score(y_test[['YES']], predictions))\n",
    "print(classification_report(y_test[['YES']], predictions))"
   ]
  },
  {
   "cell_type": "code",
   "execution_count": null,
   "metadata": {},
   "outputs": [],
   "source": []
  }
 ],
 "metadata": {
  "kernelspec": {
   "display_name": "Python 3",
   "language": "python",
   "name": "python3"
  },
  "language_info": {
   "codemirror_mode": {
    "name": "ipython",
    "version": 3
   },
   "file_extension": ".py",
   "mimetype": "text/x-python",
   "name": "python",
   "nbconvert_exporter": "python",
   "pygments_lexer": "ipython3",
   "version": "3.7.3"
  }
 },
 "nbformat": 4,
 "nbformat_minor": 2
}
